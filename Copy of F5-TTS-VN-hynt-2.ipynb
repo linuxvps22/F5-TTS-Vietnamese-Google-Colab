{
 "cells": [
  {
   "cell_type": "markdown",
   "metadata": {
    "id": "gDwgfq1k03D0"
   },
   "source": [
    "# **F5-TTS-Vietnamese edited** :\n",
    "Origin  **[hynt/F5-TTS-Vietnamese-100h](https://huggingface.co/spaces/hynt/F5-TTS-Vietnamese-100h)**"
   ]
  },
  {
   "cell_type": "markdown",
   "metadata": {
    "id": "AWC8iJO1y-kp"
   },
   "source": [
    "# **1. Install packages and dependencies**\n",
    "\n",
    "---\n",
    "\n"
   ]
  },
  {
   "cell_type": "code",
   "execution_count": null,
   "metadata": {
    "id": "AQVgT8Jn2JFs"
   },
   "outputs": [],
   "source": [
    "# %%capture\n",
    "# 1) Cập nhật & cài gói hệ thống\n",
    "!apt-get -y update\n",
    "!apt-get -y install sox ffmpeg git-lfs\n",
    "\n",
    "# 2) Cài Python packages\n",
    "!pip install -q bitsandbytes==0.46.1 einops==0.8.1 einx==0.3.0 \\\n",
    "             git+https://github.com/nguyenthienhy/F5-TTS-Vietnamese.git\n",
    "\n",
    "# 3) Clone Repo về\n",
    "!git clone https://huggingface.co/spaces/hynt/F5-TTS-Vietnamese-100h\n",
    "%cd /content/F5-TTS-Vietnamese-100h\n",
    "!pip install -r requirements.txt\n",
    "!pip install spaces"
   ]
  },
  {
   "cell_type": "markdown",
   "metadata": {
    "id": "KrV0QafHyhsY"
   },
   "source": [
    "# **2. Prepare Model files ( Mount drive or clone )**\n",
    "\n",
    "\n",
    "---\n",
    "\n"
   ]
  },
  {
   "cell_type": "markdown",
   "metadata": {
    "id": "-tcKUE4VzDZm"
   },
   "source": [
    "- ## Mount Drive and copy path of model files"
   ]
  },
  {
   "cell_type": "code",
   "execution_count": 1,
   "metadata": {
    "colab": {
     "base_uri": "https://localhost:8080/"
    },
    "executionInfo": {
     "elapsed": 20812,
     "status": "ok",
     "timestamp": 1752611538193,
     "user": {
      "displayName": "2 DC TOOL AI",
      "userId": "02172503176896139568"
     },
     "user_tz": -420
    },
    "id": "r1c3tFw8yUv3",
    "outputId": "51b80ff2-d05f-4645-fa17-d091a08d4707"
   },
   "outputs": [
    {
     "name": "stdout",
     "output_type": "stream",
     "text": [
      "Mounted at /content/drive\n"
     ]
    }
   ],
   "source": [
    "from google.colab import drive\n",
    "drive.mount('/content/drive')"
   ]
  },
  {
   "cell_type": "markdown",
   "metadata": {
    "id": "49cATu3zzS-s"
   },
   "source": [
    "- ## Or clone it"
   ]
  },
  {
   "cell_type": "code",
   "execution_count": null,
   "metadata": {
    "id": "_ns2eKO7za9U"
   },
   "outputs": [],
   "source": [
    "%cd /content/F5-TTS-Vietnamese-100h\n",
    "!git lfs install\n",
    "!git clone https://huggingface.co/hynt/F5-TTS-Vietnamese-ViVoice"
   ]
  },
  {
   "cell_type": "markdown",
   "metadata": {
    "id": "-fb6LU3p2SwR"
   },
   "source": [
    "## **3. Paste path of model files**\n",
    "\n",
    "---\n",
    "\n"
   ]
  },
  {
   "cell_type": "code",
   "execution_count": null,
   "metadata": {
    "id": "Npi-n1812jq4"
   },
   "outputs": [],
   "source": []
  },
  {
   "cell_type": "markdown",
   "metadata": {
    "id": "vVr9_xm1z4EV"
   },
   "source": [
    "# **3. Run GUI**\n",
    "\n",
    "---\n",
    "\n"
   ]
  },
  {
   "cell_type": "code",
   "execution_count": null,
   "metadata": {
    "id": "A6OSkmiOz3NR"
   },
   "outputs": [],
   "source": [
    "!python app.py"
   ]
  }
 ],
 "metadata": {
  "accelerator": "GPU",
  "colab": {
   "collapsed_sections": [
    "AWC8iJO1y-kp",
    "-tcKUE4VzDZm"
   ],
   "gpuType": "T4",
   "provenance": [
    {
     "file_id": "1vAhxuTszkmbiVW0JnWuvd7ap7YM_mzrG",
     "timestamp": 1752611474081
    }
   ]
  },
  "kernelspec": {
   "display_name": "Python 3",
   "name": "python3"
  },
  "language_info": {
   "name": "python"
  }
 },
 "nbformat": 4,
 "nbformat_minor": 0
}
