{
 "cells": [
  {
   "cell_type": "markdown",
   "metadata": {},
   "source": [
    "# **F5-TTS-Vietnamese edited** :\n",
    "\n",
    "Origin  **[hynt/F5-TTS-Vietnamese-100h](https://huggingface.co/spaces/hynt/F5-TTS-Vietnamese-100h)**\n",
    "# **1. Install packages and dependencies**\n",
    "\n",
    "\n",
    "\n",
    "---\n",
    "\n"
   ]
  },
  {
   "cell_type": "code",
   "execution_count": null,
   "metadata": {},
   "outputs": [],
   "source": [
    "# %%capture\n",
    "\n",
    "# 1) Cập nhật & cài gói hệ thống\n",
    "!apt-get -y update\n",
    "!apt-get -y install sox ffmpeg git-lfs\n",
    "\n",
    "# 2) Cài Python packages\n",
    "!pip install -q bitsandbytes==0.46.1 einops==0.8.1 einx==0.3.0 \\\n",
    "             git+https://github.com/nguyenthienhy/F5-TTS-Vietnamese.git\n",
    "\n",
    "# 3) Clone Repo về\n",
    "!git clone https://huggingface.co/spaces/hynt/F5-TTS-Vietnamese-100h\n",
    "%cd /content/F5-TTS-Vietnamese-100h\n",
    "!pip install -r requirements.txt\n",
    "!pip install spaces"
   ]
  },
  {
   "cell_type": "markdown",
   "metadata": {},
   "source": [
    "# **2. Prepare Model files ( Mount drive or clone )**\n",
    "\n",
    "\n",
    "\n",
    "\n",
    "\n",
    "---\n",
    "\n"
   ]
  },
  {
   "cell_type": "markdown",
   "metadata": {},
   "source": [
    "- ## Mount Drive and copy path of model files"
   ]
  },
  {
   "cell_type": "code",
   "execution_count": null,
   "metadata": {},
   "outputs": [],
   "source": [
    "from google.colab import drive\n",
    "drive.mount('/content/drive')"
   ]
  },
  {
   "cell_type": "markdown",
   "metadata": {},
   "source": [
    "- ## Or clone it"
   ]
  },
  {
   "cell_type": "code",
   "execution_count": null,
   "metadata": {},
   "outputs": [],
   "source": [
    "%cd /content/F5-TTS-Vietnamese-100h\n",
    "!git lfs install\n",
    "!git clone https://huggingface.co/hynt/F5-TTS-Vietnamese-ViVoice"
   ]
  },
  {
   "cell_type": "markdown",
   "metadata": {},
   "source": [
    "## **3. Configure model file paths**\n",
    "\n",
    "\n",
    "\n",
    "---\n",
    "\n"
   ]
  },
  {
   "cell_type": "code",
   "execution_count": null,
   "metadata": {},
   "outputs": [],
   "source": [
    "import os\n",
    "\n",
    "# Option 1: If you mounted Google Drive and have model files there\n",
    "# Uncomment and modify these paths according to your Google Drive structure\n",
    "# MODEL_DIR = \"/content/drive/MyDrive/path/to/your/model/folder\"\n",
    "# CKPT_FILE = os.path.join(MODEL_DIR, \"model_last.pt\")\n",
    "# CONFIG_FILE = os.path.join(MODEL_DIR, \"config.json\")\n",
    "\n",
    "# Option 2: If you cloned the model repository (default)\n",
    "MODEL_DIR = \"/content/F5-TTS-Vietnamese-100h/F5-TTS-Vietnamese-ViVoice\"\n",
    "CKPT_FILE = os.path.join(MODEL_DIR, \"model_last.pt\")\n",
    "CONFIG_FILE = os.path.join(MODEL_DIR, \"config.json\")\n",
    "\n",
    "# Option 3: If you have custom paths, specify them directly\n",
    "# CKPT_FILE = \"/path/to/your/model_last.pt\"\n",
    "# CONFIG_FILE = \"/path/to/your/config.json\"\n",
    "\n",
    "# Verify files exist\n",
    "print(\"Checking model files...\")\n",
    "if os.path.exists(CKPT_FILE):\n",
    "    print(f\"✅ Model checkpoint found: {CKPT_FILE}\")\n",
    "else:\n",
    "    print(f\"❌ Model checkpoint NOT found: {CKPT_FILE}\")\n",
    "\n",
    "if os.path.exists(CONFIG_FILE):\n",
    "    print(f\"✅ Config file found: {CONFIG_FILE}\")\n",
    "else:\n",
    "    print(f\"❌ Config file NOT found: {CONFIG_FILE}\")\n",
    "\n",
    "print(f\"\\nModel directory: {MODEL_DIR}\")\n",
    "print(f\"Checkpoint file: {CKPT_FILE}\")\n",
    "print(f\"Config file: {CONFIG_FILE}\")"
   ]
  },
  {
   "cell_type": "markdown",
   "metadata": {},
   "source": [
    "## **4. Update app.py with custom model paths**\n",
    "\n",
    "\n",
    "\n",
    "---\n",
    "\n"
   ]
  },
  {
   "cell_type": "code",
   "execution_count": null,
   "metadata": {},
   "outputs": [],
   "source": [
    "# Read the original app.py\n",
    "with open('/content/F5-TTS-Vietnamese-100h/app.py', 'r', encoding='utf-8') as f:\n",
    "    app_content = f.read()\n",
    "\n",
    "# Replace the hardcoded paths with our custom paths\n",
    "updated_content = app_content.replace(\n",
    "    'model_dir = os.path.join(os.path.dirname(__file__), \"F5-TTS-Vietnamese-ViVoice\")',\n",
    "    f'model_dir = \"{MODEL_DIR}\"'\n",
    ").replace(\n",
    "    'ckpt_file = os.path.join(model_dir, \"model_last.pt\")',\n",
    "    f'ckpt_file = \"{CKPT_FILE}\"'\n",
    ").replace(\n",
    "    'vocab_file = os.path.join(model_dir, \"config.json\")',\n",
    "    f'vocab_file = \"{CONFIG_FILE}\"'\n",
    ")\n",
    "\n",
    "# Write the updated app.py\n",
    "with open('/content/F5-TTS-Vietnamese-100h/app.py', 'w', encoding='utf-8') as f:\n",
    "    f.write(updated_content)\n",
    "\n",
    "print(\"✅ app.py has been updated with custom model paths!\")"
   ]
  },
  {
   "cell_type": "markdown",
   "metadata": {},
   "source": [
    "# **5. Run GUI**\n",
    "\n",
    "\n",
    "\n",
    "---\n",
    "\n"
   ]
  },
  {
   "cell_type": "code",
   "execution_count": null,
   "metadata": {},
   "outputs": [],
   "source": [
    "!python app.py"
   ]
  }
 ],
 "metadata": {
  "kernelspec": {
   "display_name": "Python 3",
   "language": "python",
   "name": "python3"
  },
  "language_info": {
   "codemirror_mode": {
    "name": "ipython",
    "version": 3
   },
   "file_extension": ".py",
   "mimetype": "text/x-python",
   "name": "python",
   "nbconvert_exporter": "python",
   "pygments_lexer": "ipython3",
   "version": "3.8.10"
  }
 },
 "nbformat": 4,
 "nbformat_minor": 4
}